{
  "nbformat": 4,
  "nbformat_minor": 0,
  "metadata": {
    "colab": {
      "provenance": []
    },
    "kernelspec": {
      "name": "python3",
      "display_name": "Python 3"
    },
    "language_info": {
      "name": "python"
    }
  },
  "cells": [
    {
      "cell_type": "code",
      "source": [
        "import pandas as pd\n",
        "\n",
        "# Load the dataset\n",
        "file_path = '/content/kerala.csv'  # Update with the correct path to your CSV file\n",
        "data = pd.read_csv(file_path)\n",
        "\n",
        "# Inspect the columns\n",
        "print(data.columns)\n",
        "\n",
        "# Assuming 'FLOODS' is the target column\n",
        "correct_column_name = 'FLOODS'\n",
        "print(f\"Using column name '{correct_column_name}' for target variable.\")\n",
        "\n",
        "# Filter flood years\n",
        "flood_data = data[data[correct_column_name] == 'YES']\n",
        "\n",
        "# Determine maximum monthly rainfall during flood years\n",
        "thresholds = flood_data.drop(['SUBDIVISION', 'YEAR', ' ANNUAL RAINFALL', 'FLOODS'], axis=1).max()\n",
        "\n",
        "print(\"Threshold values for monthly rainfall above which a flood is likely to occur:\")\n",
        "print(thresholds)\n",
        "\n",
        "# Function to predict flood occurrence based on user input\n",
        "def predict_flood(jan=None, feb=None, mar=None, apr=None, may=None, jun=None, jul=None, aug=None, sep=None, oct=None, nov=None, dec=None, k=thresholds):\n",
        "    input_data = {\n",
        "        'JAN': jan,\n",
        "        'FEB': feb,\n",
        "        'MAR': mar,\n",
        "        'APR': apr,\n",
        "        'MAY': may,\n",
        "        'JUN': jun,\n",
        "        'JUL': jul,\n",
        "        'AUG': aug,\n",
        "        'SEP': sep,\n",
        "        'OCT': oct,\n",
        "        'NOV': nov,\n",
        "        'DEC': dec\n",
        "    }\n",
        "\n",
        "    # Check if any month's rainfall exceeds the threshold\n",
        "    for month, value in input_data.items():\n",
        "        if value is not None and value > k[month]:\n",
        "            return \"Flood likely\"\n",
        "\n",
        "    return \"No flood\"\n",
        "\n",
        "prediction = predict_flood(jan=120, feb=60)\n",
        "print(f'Prediction: {prediction}')\n"
      ],
      "metadata": {
        "colab": {
          "base_uri": "https://localhost:8080/"
        },
        "id": "fvyERVZf9yA-",
        "outputId": "fb205b75-051a-4e0e-97d6-000c5cc6fc19"
      },
      "execution_count": 9,
      "outputs": [
        {
          "output_type": "stream",
          "name": "stdout",
          "text": [
            "Index(['SUBDIVISION', 'YEAR', 'JAN', 'FEB', 'MAR', 'APR', 'MAY', 'JUN', 'JUL',\n",
            "       'AUG', 'SEP', 'OCT', 'NOV', 'DEC', ' ANNUAL RAINFALL', 'FLOODS'],\n",
            "      dtype='object')\n",
            "Using column name 'FLOODS' for target variable.\n",
            "Threshold values for monthly rainfall above which a flood is likely to occur:\n",
            "JAN      83.5\n",
            "FEB      54.7\n",
            "MAR     116.0\n",
            "APR     210.7\n",
            "MAY     738.8\n",
            "JUN    1098.2\n",
            "JUL    1526.5\n",
            "AUG    1398.9\n",
            "SEP     526.7\n",
            "OCT     543.2\n",
            "NOV     365.6\n",
            "DEC     202.3\n",
            "dtype: float64\n",
            "Prediction: Flood likely\n"
          ]
        }
      ]
    },
    {
      "cell_type": "code",
      "source": [
        "import pandas as pd\n",
        "\n",
        "# Load the dataset\n",
        "file_path = '/content/kerala.csv'  # Update with the correct path to your CSV file\n",
        "data = pd.read_csv(file_path)\n",
        "\n",
        "# Inspect the columns\n",
        "print(data.columns)\n",
        "\n",
        "# Assuming 'FLOODS' is the target column\n",
        "correct_column_name = 'FLOODS'\n",
        "print(f\"Using column name '{correct_column_name}' for target variable.\")\n",
        "\n",
        "# Filter flood years\n",
        "flood_data = data[data[correct_column_name] == 'YES']\n",
        "\n",
        "# Determine maximum monthly rainfall during flood years\n",
        "thresholds = flood_data.drop(['SUBDIVISION', 'YEAR', ' ANNUAL RAINFALL', 'FLOODS'], axis=1).max()\n",
        "\n",
        "print(\"Threshold values for monthly rainfall above which a flood is likely to occur:\")\n",
        "print(thresholds)\n",
        "\n",
        "# Function to predict flood occurrence based on user input\n",
        "def predict_flood(jan=None, feb=None, mar=None, apr=None, may=None, jun=None, jul=None, aug=None, sep=None, oct=None, nov=None, dec=None, k=thresholds):\n",
        "    input_data = {\n",
        "        'JAN': jan,\n",
        "        'FEB': feb,\n",
        "        'MAR': mar,\n",
        "        'APR': apr,\n",
        "        'MAY': may,\n",
        "        'JUN': jun,\n",
        "        'JUL': jul,\n",
        "        'AUG': aug,\n",
        "        'SEP': sep,\n",
        "        'OCT': oct,\n",
        "        'NOV': nov,\n",
        "        'DEC': dec\n",
        "    }\n",
        "\n",
        "    # Check if any month's rainfall exceeds the threshold\n",
        "    for month, value in input_data.items():\n",
        "        if value is not None and value > k[month]:\n",
        "            return \"Flood likely\"\n",
        "\n",
        "    return \"No flood\"\n",
        "\n",
        "prediction = predict_flood(jan=80,feb=40)\n",
        "print(f'Prediction: {prediction}')\n"
      ],
      "metadata": {
        "colab": {
          "base_uri": "https://localhost:8080/"
        },
        "id": "NY5lY_y7-_Eo",
        "outputId": "003d69ef-45aa-4fbe-ffd1-f7cc35e52ce8"
      },
      "execution_count": 8,
      "outputs": [
        {
          "output_type": "stream",
          "name": "stdout",
          "text": [
            "Index(['SUBDIVISION', 'YEAR', 'JAN', 'FEB', 'MAR', 'APR', 'MAY', 'JUN', 'JUL',\n",
            "       'AUG', 'SEP', 'OCT', 'NOV', 'DEC', ' ANNUAL RAINFALL', 'FLOODS'],\n",
            "      dtype='object')\n",
            "Using column name 'FLOODS' for target variable.\n",
            "Threshold values for monthly rainfall above which a flood is likely to occur:\n",
            "JAN      83.5\n",
            "FEB      54.7\n",
            "MAR     116.0\n",
            "APR     210.7\n",
            "MAY     738.8\n",
            "JUN    1098.2\n",
            "JUL    1526.5\n",
            "AUG    1398.9\n",
            "SEP     526.7\n",
            "OCT     543.2\n",
            "NOV     365.6\n",
            "DEC     202.3\n",
            "dtype: float64\n",
            "Prediction: No flood\n"
          ]
        }
      ]
    }
  ]
}