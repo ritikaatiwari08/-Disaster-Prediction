{
  "cells": [
    {
      "cell_type": "code",
      "execution_count": 1,
      "metadata": {
        "id": "UnC3w8NgKFTG"
      },
      "outputs": [],
      "source": [
        "import pandas as pd\n",
        "import numpy as np\n",
        "from sklearn.model_selection import train_test_split\n",
        "from sklearn.ensemble import RandomForestRegressor\n",
        "from sklearn.metrics import mean_squared_error, r2_score\n",
        "from sklearn.preprocessing import LabelEncoder\n"
      ]
    },
    {
      "cell_type": "code",
      "execution_count": 2,
      "metadata": {
        "id": "RVDu7DPjQZul"
      },
      "outputs": [],
      "source": [
        "data=pd.read_csv(r\"atlantic.csv\")"
      ]
    },
    {
      "cell_type": "code",
      "execution_count": 3,
      "metadata": {
        "colab": {
          "base_uri": "https://localhost:8080/",
          "height": 290
        },
        "id": "YYH3hkR0Q5O4",
        "outputId": "2a8393c5-a839-4123-bc25-f56faad8a129"
      },
      "outputs": [
        {
          "data": {
            "text/html": [
              "<div>\n",
              "<style scoped>\n",
              "    .dataframe tbody tr th:only-of-type {\n",
              "        vertical-align: middle;\n",
              "    }\n",
              "\n",
              "    .dataframe tbody tr th {\n",
              "        vertical-align: top;\n",
              "    }\n",
              "\n",
              "    .dataframe thead th {\n",
              "        text-align: right;\n",
              "    }\n",
              "</style>\n",
              "<table border=\"1\" class=\"dataframe\">\n",
              "  <thead>\n",
              "    <tr style=\"text-align: right;\">\n",
              "      <th></th>\n",
              "      <th>ID</th>\n",
              "      <th>Name</th>\n",
              "      <th>Date</th>\n",
              "      <th>Time</th>\n",
              "      <th>Event</th>\n",
              "      <th>Status</th>\n",
              "      <th>Latitude</th>\n",
              "      <th>Longitude</th>\n",
              "      <th>Maximum Wind</th>\n",
              "      <th>Minimum Pressure</th>\n",
              "      <th>...</th>\n",
              "      <th>Low Wind SW</th>\n",
              "      <th>Low Wind NW</th>\n",
              "      <th>Moderate Wind NE</th>\n",
              "      <th>Moderate Wind SE</th>\n",
              "      <th>Moderate Wind SW</th>\n",
              "      <th>Moderate Wind NW</th>\n",
              "      <th>High Wind NE</th>\n",
              "      <th>High Wind SE</th>\n",
              "      <th>High Wind SW</th>\n",
              "      <th>High Wind NW</th>\n",
              "    </tr>\n",
              "  </thead>\n",
              "  <tbody>\n",
              "    <tr>\n",
              "      <th>0</th>\n",
              "      <td>AL011851</td>\n",
              "      <td>UNNAMED</td>\n",
              "      <td>18510625</td>\n",
              "      <td>0</td>\n",
              "      <td></td>\n",
              "      <td>HU</td>\n",
              "      <td>28.0N</td>\n",
              "      <td>94.8W</td>\n",
              "      <td>80</td>\n",
              "      <td>-999</td>\n",
              "      <td>...</td>\n",
              "      <td>-999</td>\n",
              "      <td>-999</td>\n",
              "      <td>-999</td>\n",
              "      <td>-999</td>\n",
              "      <td>-999</td>\n",
              "      <td>-999</td>\n",
              "      <td>-999</td>\n",
              "      <td>-999</td>\n",
              "      <td>-999</td>\n",
              "      <td>-999</td>\n",
              "    </tr>\n",
              "    <tr>\n",
              "      <th>1</th>\n",
              "      <td>AL011851</td>\n",
              "      <td>UNNAMED</td>\n",
              "      <td>18510625</td>\n",
              "      <td>600</td>\n",
              "      <td></td>\n",
              "      <td>HU</td>\n",
              "      <td>28.0N</td>\n",
              "      <td>95.4W</td>\n",
              "      <td>80</td>\n",
              "      <td>-999</td>\n",
              "      <td>...</td>\n",
              "      <td>-999</td>\n",
              "      <td>-999</td>\n",
              "      <td>-999</td>\n",
              "      <td>-999</td>\n",
              "      <td>-999</td>\n",
              "      <td>-999</td>\n",
              "      <td>-999</td>\n",
              "      <td>-999</td>\n",
              "      <td>-999</td>\n",
              "      <td>-999</td>\n",
              "    </tr>\n",
              "    <tr>\n",
              "      <th>2</th>\n",
              "      <td>AL011851</td>\n",
              "      <td>UNNAMED</td>\n",
              "      <td>18510625</td>\n",
              "      <td>1200</td>\n",
              "      <td></td>\n",
              "      <td>HU</td>\n",
              "      <td>28.0N</td>\n",
              "      <td>96.0W</td>\n",
              "      <td>80</td>\n",
              "      <td>-999</td>\n",
              "      <td>...</td>\n",
              "      <td>-999</td>\n",
              "      <td>-999</td>\n",
              "      <td>-999</td>\n",
              "      <td>-999</td>\n",
              "      <td>-999</td>\n",
              "      <td>-999</td>\n",
              "      <td>-999</td>\n",
              "      <td>-999</td>\n",
              "      <td>-999</td>\n",
              "      <td>-999</td>\n",
              "    </tr>\n",
              "    <tr>\n",
              "      <th>3</th>\n",
              "      <td>AL011851</td>\n",
              "      <td>UNNAMED</td>\n",
              "      <td>18510625</td>\n",
              "      <td>1800</td>\n",
              "      <td></td>\n",
              "      <td>HU</td>\n",
              "      <td>28.1N</td>\n",
              "      <td>96.5W</td>\n",
              "      <td>80</td>\n",
              "      <td>-999</td>\n",
              "      <td>...</td>\n",
              "      <td>-999</td>\n",
              "      <td>-999</td>\n",
              "      <td>-999</td>\n",
              "      <td>-999</td>\n",
              "      <td>-999</td>\n",
              "      <td>-999</td>\n",
              "      <td>-999</td>\n",
              "      <td>-999</td>\n",
              "      <td>-999</td>\n",
              "      <td>-999</td>\n",
              "    </tr>\n",
              "    <tr>\n",
              "      <th>4</th>\n",
              "      <td>AL011851</td>\n",
              "      <td>UNNAMED</td>\n",
              "      <td>18510625</td>\n",
              "      <td>2100</td>\n",
              "      <td>L</td>\n",
              "      <td>HU</td>\n",
              "      <td>28.2N</td>\n",
              "      <td>96.8W</td>\n",
              "      <td>80</td>\n",
              "      <td>-999</td>\n",
              "      <td>...</td>\n",
              "      <td>-999</td>\n",
              "      <td>-999</td>\n",
              "      <td>-999</td>\n",
              "      <td>-999</td>\n",
              "      <td>-999</td>\n",
              "      <td>-999</td>\n",
              "      <td>-999</td>\n",
              "      <td>-999</td>\n",
              "      <td>-999</td>\n",
              "      <td>-999</td>\n",
              "    </tr>\n",
              "  </tbody>\n",
              "</table>\n",
              "<p>5 rows × 22 columns</p>\n",
              "</div>"
            ],
            "text/plain": [
              "         ID                 Name      Date  Time Event Status Latitude  \\\n",
              "0  AL011851              UNNAMED  18510625     0           HU    28.0N   \n",
              "1  AL011851              UNNAMED  18510625   600           HU    28.0N   \n",
              "2  AL011851              UNNAMED  18510625  1200           HU    28.0N   \n",
              "3  AL011851              UNNAMED  18510625  1800           HU    28.1N   \n",
              "4  AL011851              UNNAMED  18510625  2100     L     HU    28.2N   \n",
              "\n",
              "  Longitude  Maximum Wind  Minimum Pressure  ...  Low Wind SW  Low Wind NW  \\\n",
              "0     94.8W            80              -999  ...         -999         -999   \n",
              "1     95.4W            80              -999  ...         -999         -999   \n",
              "2     96.0W            80              -999  ...         -999         -999   \n",
              "3     96.5W            80              -999  ...         -999         -999   \n",
              "4     96.8W            80              -999  ...         -999         -999   \n",
              "\n",
              "   Moderate Wind NE  Moderate Wind SE  Moderate Wind SW  Moderate Wind NW  \\\n",
              "0              -999              -999              -999              -999   \n",
              "1              -999              -999              -999              -999   \n",
              "2              -999              -999              -999              -999   \n",
              "3              -999              -999              -999              -999   \n",
              "4              -999              -999              -999              -999   \n",
              "\n",
              "   High Wind NE  High Wind SE  High Wind SW  High Wind NW  \n",
              "0          -999          -999          -999          -999  \n",
              "1          -999          -999          -999          -999  \n",
              "2          -999          -999          -999          -999  \n",
              "3          -999          -999          -999          -999  \n",
              "4          -999          -999          -999          -999  \n",
              "\n",
              "[5 rows x 22 columns]"
            ]
          },
          "execution_count": 3,
          "metadata": {},
          "output_type": "execute_result"
        }
      ],
      "source": [
        "data.head()"
      ]
    },
    {
      "cell_type": "code",
      "execution_count": 4,
      "metadata": {
        "id": "0NGbNniRQ76Q"
      },
      "outputs": [],
      "source": [
        "def convert_lat_long(value):\n",
        "    if 'N' in value:\n",
        "        return float(value[:-1])\n",
        "    elif 'S' in value:\n",
        "        return -float(value[:-1])\n",
        "    elif 'E' in value:\n",
        "        return float(value[:-1])\n",
        "    elif 'W' in value:\n",
        "        return -float(value[:-1])\n",
        "    else:\n",
        "        return np.nan\n",
        "\n",
        "data['Latitude'] = data['Latitude'].apply(convert_lat_long)\n",
        "data['Longitude'] = data['Longitude'].apply(convert_lat_long)"
      ]
    },
    {
      "cell_type": "code",
      "execution_count": 5,
      "metadata": {
        "colab": {
          "base_uri": "https://localhost:8080/",
          "height": 290
        },
        "id": "TgBnDCz-jZeJ",
        "outputId": "8602cd43-707d-4c63-dfce-a59cd1862b0e"
      },
      "outputs": [
        {
          "data": {
            "text/html": [
              "<div>\n",
              "<style scoped>\n",
              "    .dataframe tbody tr th:only-of-type {\n",
              "        vertical-align: middle;\n",
              "    }\n",
              "\n",
              "    .dataframe tbody tr th {\n",
              "        vertical-align: top;\n",
              "    }\n",
              "\n",
              "    .dataframe thead th {\n",
              "        text-align: right;\n",
              "    }\n",
              "</style>\n",
              "<table border=\"1\" class=\"dataframe\">\n",
              "  <thead>\n",
              "    <tr style=\"text-align: right;\">\n",
              "      <th></th>\n",
              "      <th>ID</th>\n",
              "      <th>Name</th>\n",
              "      <th>Date</th>\n",
              "      <th>Time</th>\n",
              "      <th>Event</th>\n",
              "      <th>Status</th>\n",
              "      <th>Latitude</th>\n",
              "      <th>Longitude</th>\n",
              "      <th>Maximum Wind</th>\n",
              "      <th>Minimum Pressure</th>\n",
              "      <th>...</th>\n",
              "      <th>Low Wind SW</th>\n",
              "      <th>Low Wind NW</th>\n",
              "      <th>Moderate Wind NE</th>\n",
              "      <th>Moderate Wind SE</th>\n",
              "      <th>Moderate Wind SW</th>\n",
              "      <th>Moderate Wind NW</th>\n",
              "      <th>High Wind NE</th>\n",
              "      <th>High Wind SE</th>\n",
              "      <th>High Wind SW</th>\n",
              "      <th>High Wind NW</th>\n",
              "    </tr>\n",
              "  </thead>\n",
              "  <tbody>\n",
              "    <tr>\n",
              "      <th>0</th>\n",
              "      <td>AL011851</td>\n",
              "      <td>UNNAMED</td>\n",
              "      <td>18510625</td>\n",
              "      <td>0</td>\n",
              "      <td></td>\n",
              "      <td>HU</td>\n",
              "      <td>28.0</td>\n",
              "      <td>-94.8</td>\n",
              "      <td>80</td>\n",
              "      <td>992.24425</td>\n",
              "      <td>...</td>\n",
              "      <td>48.647188</td>\n",
              "      <td>59.156393</td>\n",
              "      <td>24.641952</td>\n",
              "      <td>23.029894</td>\n",
              "      <td>15.427293</td>\n",
              "      <td>18.403141</td>\n",
              "      <td>8.110117</td>\n",
              "      <td>7.35771</td>\n",
              "      <td>5.13089</td>\n",
              "      <td>6.269211</td>\n",
              "    </tr>\n",
              "    <tr>\n",
              "      <th>1</th>\n",
              "      <td>AL011851</td>\n",
              "      <td>UNNAMED</td>\n",
              "      <td>18510625</td>\n",
              "      <td>600</td>\n",
              "      <td></td>\n",
              "      <td>HU</td>\n",
              "      <td>28.0</td>\n",
              "      <td>-95.4</td>\n",
              "      <td>80</td>\n",
              "      <td>992.24425</td>\n",
              "      <td>...</td>\n",
              "      <td>48.647188</td>\n",
              "      <td>59.156393</td>\n",
              "      <td>24.641952</td>\n",
              "      <td>23.029894</td>\n",
              "      <td>15.427293</td>\n",
              "      <td>18.403141</td>\n",
              "      <td>8.110117</td>\n",
              "      <td>7.35771</td>\n",
              "      <td>5.13089</td>\n",
              "      <td>6.269211</td>\n",
              "    </tr>\n",
              "    <tr>\n",
              "      <th>2</th>\n",
              "      <td>AL011851</td>\n",
              "      <td>UNNAMED</td>\n",
              "      <td>18510625</td>\n",
              "      <td>1200</td>\n",
              "      <td></td>\n",
              "      <td>HU</td>\n",
              "      <td>28.0</td>\n",
              "      <td>-96.0</td>\n",
              "      <td>80</td>\n",
              "      <td>992.24425</td>\n",
              "      <td>...</td>\n",
              "      <td>48.647188</td>\n",
              "      <td>59.156393</td>\n",
              "      <td>24.641952</td>\n",
              "      <td>23.029894</td>\n",
              "      <td>15.427293</td>\n",
              "      <td>18.403141</td>\n",
              "      <td>8.110117</td>\n",
              "      <td>7.35771</td>\n",
              "      <td>5.13089</td>\n",
              "      <td>6.269211</td>\n",
              "    </tr>\n",
              "    <tr>\n",
              "      <th>3</th>\n",
              "      <td>AL011851</td>\n",
              "      <td>UNNAMED</td>\n",
              "      <td>18510625</td>\n",
              "      <td>1800</td>\n",
              "      <td></td>\n",
              "      <td>HU</td>\n",
              "      <td>28.1</td>\n",
              "      <td>-96.5</td>\n",
              "      <td>80</td>\n",
              "      <td>992.24425</td>\n",
              "      <td>...</td>\n",
              "      <td>48.647188</td>\n",
              "      <td>59.156393</td>\n",
              "      <td>24.641952</td>\n",
              "      <td>23.029894</td>\n",
              "      <td>15.427293</td>\n",
              "      <td>18.403141</td>\n",
              "      <td>8.110117</td>\n",
              "      <td>7.35771</td>\n",
              "      <td>5.13089</td>\n",
              "      <td>6.269211</td>\n",
              "    </tr>\n",
              "    <tr>\n",
              "      <th>4</th>\n",
              "      <td>AL011851</td>\n",
              "      <td>UNNAMED</td>\n",
              "      <td>18510625</td>\n",
              "      <td>2100</td>\n",
              "      <td>L</td>\n",
              "      <td>HU</td>\n",
              "      <td>28.2</td>\n",
              "      <td>-96.8</td>\n",
              "      <td>80</td>\n",
              "      <td>992.24425</td>\n",
              "      <td>...</td>\n",
              "      <td>48.647188</td>\n",
              "      <td>59.156393</td>\n",
              "      <td>24.641952</td>\n",
              "      <td>23.029894</td>\n",
              "      <td>15.427293</td>\n",
              "      <td>18.403141</td>\n",
              "      <td>8.110117</td>\n",
              "      <td>7.35771</td>\n",
              "      <td>5.13089</td>\n",
              "      <td>6.269211</td>\n",
              "    </tr>\n",
              "  </tbody>\n",
              "</table>\n",
              "<p>5 rows × 22 columns</p>\n",
              "</div>"
            ],
            "text/plain": [
              "         ID                 Name      Date  Time Event Status  Latitude  \\\n",
              "0  AL011851              UNNAMED  18510625     0           HU      28.0   \n",
              "1  AL011851              UNNAMED  18510625   600           HU      28.0   \n",
              "2  AL011851              UNNAMED  18510625  1200           HU      28.0   \n",
              "3  AL011851              UNNAMED  18510625  1800           HU      28.1   \n",
              "4  AL011851              UNNAMED  18510625  2100     L     HU      28.2   \n",
              "\n",
              "   Longitude  Maximum Wind  Minimum Pressure  ...  Low Wind SW  Low Wind NW  \\\n",
              "0      -94.8            80         992.24425  ...    48.647188    59.156393   \n",
              "1      -95.4            80         992.24425  ...    48.647188    59.156393   \n",
              "2      -96.0            80         992.24425  ...    48.647188    59.156393   \n",
              "3      -96.5            80         992.24425  ...    48.647188    59.156393   \n",
              "4      -96.8            80         992.24425  ...    48.647188    59.156393   \n",
              "\n",
              "   Moderate Wind NE  Moderate Wind SE  Moderate Wind SW  Moderate Wind NW  \\\n",
              "0         24.641952         23.029894         15.427293         18.403141   \n",
              "1         24.641952         23.029894         15.427293         18.403141   \n",
              "2         24.641952         23.029894         15.427293         18.403141   \n",
              "3         24.641952         23.029894         15.427293         18.403141   \n",
              "4         24.641952         23.029894         15.427293         18.403141   \n",
              "\n",
              "   High Wind NE  High Wind SE  High Wind SW  High Wind NW  \n",
              "0      8.110117       7.35771       5.13089      6.269211  \n",
              "1      8.110117       7.35771       5.13089      6.269211  \n",
              "2      8.110117       7.35771       5.13089      6.269211  \n",
              "3      8.110117       7.35771       5.13089      6.269211  \n",
              "4      8.110117       7.35771       5.13089      6.269211  \n",
              "\n",
              "[5 rows x 22 columns]"
            ]
          },
          "execution_count": 5,
          "metadata": {},
          "output_type": "execute_result"
        }
      ],
      "source": [
        "# Replace -999 with NaN\n",
        "data = data.replace(-999, np.nan)\n",
        "\n",
        "# Fill NaN values with the mean of their respective numeric columns\n",
        "numeric_columns = data.select_dtypes(include=[np.number]).columns\n",
        "data[numeric_columns] = data[numeric_columns].fillna(data[numeric_columns].mean())\n",
        "\n",
        "# Display the first few rows of the updated dataset\n",
        "data.head()\n"
      ]
    },
    {
      "cell_type": "code",
      "execution_count": 6,
      "metadata": {
        "id": "k-NPBMXhRDzW"
      },
      "outputs": [],
      "source": [
        "# Extract 'Year', 'Month', and 'Day' from the 'Date' column\n",
        "data['Year'] = data['Date'].astype(str).str[:4].astype(int)\n",
        "data['Month'] = data['Date'].astype(str).str[4:6].astype(int)\n",
        "data['Day'] = data['Date'].astype(str).str[6:8].astype(int)\n",
        "\n",
        "# Define the feature matrix (X) and the target vector (y)\n",
        "X = data[['Latitude', 'Longitude', 'Moderate Wind NE', 'Moderate Wind SE', 'Moderate Wind SW', 'Moderate Wind NW', 'Year', 'Month', 'Day']]\n",
        "y = data['Maximum Wind']\n",
        "\n"
      ]
    },
    {
      "cell_type": "code",
      "execution_count": 7,
      "metadata": {
        "id": "FNuMLcShRGxV"
      },
      "outputs": [],
      "source": [
        "X_train, X_test, y_train, y_test = train_test_split(X, y, test_size=0.2, random_state=42)\n",
        "\n"
      ]
    },
    {
      "cell_type": "code",
      "execution_count": 8,
      "metadata": {
        "colab": {
          "base_uri": "https://localhost:8080/"
        },
        "id": "Y6EmMjCHkypQ",
        "outputId": "37debafc-c151-4f81-f3bb-58c5d3591480"
      },
      "outputs": [
        {
          "name": "stdout",
          "output_type": "stream",
          "text": [
            "Requirement already satisfied: scikit-learn in c:\\python312\\lib\\site-packages (1.5.1)\n",
            "Requirement already satisfied: numpy>=1.19.5 in c:\\users\\kiit\\appdata\\roaming\\python\\python312\\site-packages (from scikit-learn) (2.0.0)\n",
            "Requirement already satisfied: scipy>=1.6.0 in c:\\python312\\lib\\site-packages (from scikit-learn) (1.13.1)\n",
            "Requirement already satisfied: joblib>=1.2.0 in c:\\python312\\lib\\site-packages (from scikit-learn) (1.4.2)\n",
            "Requirement already satisfied: threadpoolctl>=3.1.0 in c:\\python312\\lib\\site-packages (from scikit-learn) (3.5.0)\n"
          ]
        }
      ],
      "source": [
        "!pip install scikit-learn"
      ]
    },
    {
      "cell_type": "code",
      "execution_count": 9,
      "metadata": {},
      "outputs": [
        {
          "name": "stdout",
          "output_type": "stream",
          "text": [
            "Requirement already satisfied: numpy in c:\\users\\kiit\\appdata\\roaming\\python\\python312\\site-packages (2.0.0)\n"
          ]
        }
      ],
      "source": [
        "!pip install --upgrade numpy --user\n"
      ]
    },
    {
      "cell_type": "code",
      "execution_count": 10,
      "metadata": {
        "colab": {
          "base_uri": "https://localhost:8080/",
          "height": 654
        },
        "id": "H9ojiNo2lm_D",
        "outputId": "8ae0eb0a-01fe-43f3-86a6-95e8c4739cea"
      },
      "outputs": [
        {
          "name": "stdout",
          "output_type": "stream",
          "text": [
            "Mean Squared Error: 100.08923356501336\n"
          ]
        }
      ],
      "source": [
        "from sklearn.impute import SimpleImputer\n",
        "from sklearn.ensemble import RandomForestRegressor\n",
        "from sklearn.metrics import mean_squared_error\n",
        "from sklearn.model_selection import train_test_split\n",
        "# Impute missing values using the mean\n",
        "imputer = SimpleImputer(strategy='mean')  # Replace missing values with the mean\n",
        "X_train = imputer.fit_transform(X_train)\n",
        "X_test = imputer.transform(X_test)  # Use the same imputer fitted on training data\n",
        "\n",
        "# Train the model\n",
        "model = RandomForestRegressor(n_estimators=100, random_state=42)\n",
        "model.fit(X_train, y_train)\n",
        "\n",
        "# Predict on the test set\n",
        "y_pred = model.predict(X_test)\n",
        "\n",
        "# Calculate Mean Squared Error\n",
        "mse = mean_squared_error(y_test, y_pred)\n",
        "print(f\"Mean Squared Error: {mse}\")"
      ]
    },
    {
      "cell_type": "code",
      "execution_count": 11,
      "metadata": {
        "colab": {
          "base_uri": "https://localhost:8080/"
        },
        "id": "r-YM_SwtTCZE",
        "outputId": "439d357b-b2df-4a93-c236-1ee1059129a0"
      },
      "outputs": [
        {
          "name": "stdout",
          "output_type": "stream",
          "text": [
            "Mean Squared Error: 100.08923356501336\n",
            "R^2 Score: 0.8707792990764643\n"
          ]
        }
      ],
      "source": [
        "y_pred = model.predict(X_test)\n",
        "mse = mean_squared_error(y_test, y_pred)\n",
        "r2 = r2_score(y_test, y_pred)\n",
        "print(f'Mean Squared Error: {mse}')\n",
        "print(f'R^2 Score: {r2}')\n"
      ]
    },
    {
      "cell_type": "code",
      "execution_count": 12,
      "metadata": {
        "id": "sjPB-F0BTELM"
      },
      "outputs": [],
      "source": [
        "def predict_max_wind(latitude, longitude, moderate_wind_ne, moderate_wind_se, moderate_wind_sw, moderate_wind_nw, year, month, day):\n",
        "    input_data = np.array([[latitude, longitude, moderate_wind_ne, moderate_wind_se, moderate_wind_sw, moderate_wind_nw, year, month, day]])\n",
        "    input_data = imputer.transform(input_data)  # Apply the imputer to the input data\n",
        "    prediction = model.predict(input_data)\n",
        "    return prediction[0]\n"
      ]
    },
    {
      "cell_type": "code",
      "execution_count": 13,
      "metadata": {
        "colab": {
          "base_uri": "https://localhost:8080/"
        },
        "id": "1N108vqRRMi9",
        "outputId": "6b95870c-1757-40d8-ba59-bddfefa2c2d6"
      },
      "outputs": [
        {
          "name": "stdout",
          "output_type": "stream",
          "text": [
            "Predicted Maximum Wind: 95.05 knots\n"
          ]
        },
        {
          "name": "stderr",
          "output_type": "stream",
          "text": [
            "c:\\Python312\\Lib\\site-packages\\sklearn\\base.py:493: UserWarning: X does not have valid feature names, but SimpleImputer was fitted with feature names\n",
            "  warnings.warn(\n"
          ]
        }
      ],
      "source": [
        "latitude = 25.0\n",
        "longitude = -80.0\n",
        "moderate_wind_ne = 40\n",
        "moderate_wind_se = 35\n",
        "moderate_wind_sw = 35\n",
        "moderate_wind_nw = 40\n",
        "year = 2023\n",
        "month = 9\n",
        "day = 15\n",
        "\n",
        "predicted_max_wind = predict_max_wind(latitude, longitude, moderate_wind_ne, moderate_wind_se, moderate_wind_sw, moderate_wind_nw, year, month, day)\n",
        "print(f'Predicted Maximum Wind: {predicted_max_wind} knots')"
      ]
    }
  ],
  "metadata": {
    "colab": {
      "provenance": []
    },
    "kernelspec": {
      "display_name": "Python 3",
      "name": "python3"
    },
    "language_info": {
      "codemirror_mode": {
        "name": "ipython",
        "version": 3
      },
      "file_extension": ".py",
      "mimetype": "text/x-python",
      "name": "python",
      "nbconvert_exporter": "python",
      "pygments_lexer": "ipython3",
      "version": "3.12.4"
    }
  },
  "nbformat": 4,
  "nbformat_minor": 0
}
